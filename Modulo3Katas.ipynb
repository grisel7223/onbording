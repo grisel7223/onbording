{
 "cells": [
  {
   "cell_type": "code",
   "execution_count": 5,
   "metadata": {},
   "outputs": [
    {
     "name": "stdout",
     "output_type": "stream",
     "text": [
      "ALERTA UN ASTEROIDE SE ACERCA DEMASIADO RAPIDO A LA TIERRA\n"
     ]
    }
   ],
   "source": [
    "asteroide = 49\n",
    "if asteroide > 25:\n",
    "    print('ALERTA UN ASTEROIDE SE ACERCA DEMASIADO RAPIDO A LA TIERRA')\n",
    "else:\n",
    "    \n",
    "    print('NO HAY PELIGRO')\n"
   ]
  },
  {
   "cell_type": "markdown",
   "metadata": {},
   "source": [
    "un asteroide entra en la atmósfera de la Tierra"
   ]
  },
  {
   "cell_type": "code",
   "execution_count": 10,
   "metadata": {},
   "outputs": [
    {
     "name": "stdout",
     "output_type": "stream",
     "text": [
      "el Asteroide que ingreso no puede producir el rayon de luz en la Tierra\n"
     ]
    }
   ],
   "source": [
    "Asteroide = 19\n",
    "if Asteroide > 20:\n",
    "    print('el asteoide que acaba de ingresar es mayor a 20km/s y pude producir un rayo de luz que se puede ver desde la Tierra')\n",
    "elif Asteroide == 20:\n",
    "    print('El asteroide que acaba de ingresar es de 20km/s y produce un rayo de luz que se puede ver desde la Tierra')\n",
    "else:\n",
    "    print('el Asteroide que ingreso no puede producir el rayon de luz en la Tierra')"
   ]
  },
  {
   "cell_type": "markdown",
   "metadata": {},
   "source": []
  },
  {
   "cell_type": "code",
   "execution_count": 13,
   "metadata": {},
   "outputs": [
    {
     "name": "stdout",
     "output_type": "stream",
     "text": [
      "no hay peligro\n"
     ]
    }
   ],
   "source": [
    "velocidad = 25\n",
    "tamaño_del_asteroide =25\n",
    "if velocidad > 25 and tamaño_del_asteroide > 25:\n",
    "    print('Alerta Alerta un asteroide se hacerca ')\n",
    "elif velocidad >= 20:\n",
    "    print('El asteroide que acaba de ingresar es de 20km/s y produce un rayo de luz que se puede ver desde la Tierra')\n",
    "elif tamaño_del_asteroide < 25:\n",
    "    print(' no hay peligro')\n",
    "else:\n",
    "    print('no hay peligro')"
   ]
  }
 ],
 "metadata": {
  "interpreter": {
   "hash": "ac59ebe37160ed0dfa835113d9b8498d9f09ceb179beaac4002f036b9467c963"
  },
  "kernelspec": {
   "display_name": "Python 3.9.5 64-bit",
   "language": "python",
   "name": "python3"
  },
  "language_info": {
   "codemirror_mode": {
    "name": "ipython",
    "version": 3
   },
   "file_extension": ".py",
   "mimetype": "text/x-python",
   "name": "python",
   "nbconvert_exporter": "python",
   "pygments_lexer": "ipython3",
   "version": "3.9.5"
  },
  "orig_nbformat": 4
 },
 "nbformat": 4,
 "nbformat_minor": 2
}
