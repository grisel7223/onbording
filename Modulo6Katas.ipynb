{
 "cells": [
  {
   "cell_type": "markdown",
   "metadata": {},
   "source": [
    "           Crear y usar listas de Python\n",
    "Ejercicio: Usar listas para almacenar nombres de planetas"
   ]
  },
  {
   "cell_type": "code",
   "execution_count": null,
   "metadata": {},
   "outputs": [],
   "source": [
    "# Creamos la lista planets y la mostramos\n",
    "planetas= ['Mercurio', 'Venus','Tierra', 'Marte', 'Júpiter', 'Saturno','urano','Neptuno']\n",
    "num_planetas = len(planetas)\n",
    "print('El numero de planetas es:',num_planetas)"
   ]
  },
  {
   "cell_type": "code",
   "execution_count": null,
   "metadata": {},
   "outputs": [],
   "source": [
    "# Agregamos a plutón y mostramos el último elemento\n",
    "planetas.append('Pluton')\n",
    "num_planetas = len(planetas)\n",
    "print('En total el numero de planetas que hay es:', num_planetas,)\n",
    "print('El ultimo planeta que se agrego es: ', planetas[-1])"
   ]
  },
  {
   "cell_type": "markdown",
   "metadata": {},
   "source": [
    "             2: Trabajando con datos de una lista\n",
    "Usar slices para recuperar partes de una lista"
   ]
  },
  {
   "cell_type": "code",
   "execution_count": null,
   "metadata": {},
   "outputs": [],
   "source": [
    "## Lista de planetas\n",
    "planetas= ['Mercurio', 'Venus','Tierra', 'Marte', 'Júpiter', 'Saturno','Neptuno',]"
   ]
  },
  {
   "cell_type": "code",
   "execution_count": 57,
   "metadata": {},
   "outputs": [
    {
     "name": "stdout",
     "output_type": "stream",
     "text": [
      "Estos son los planetas mas cercanos al sol  Tierra\n",
      "['Mercurio', 'Venus']\n",
      "Estos son los planetas mas lejanos al sol  Tierra\n",
      "['Marte', 'Júpiter', 'Saturno', 'Neptuno']\n"
     ]
    }
   ],
   "source": [
    "# Solicitamos el nombre de un planeta *Pista:  input()*\n",
    "ing_planeta = input('ingrese el nombre de unplaneta Colocando con mayuscula la mimera letra:')\n",
    "# Busca el planeta en la lista\n",
    "bus_planeta = planetas.index(ing_planeta)\n",
    "## Muestra los planetas más cercanos al sol\n",
    "print('Estos son los planetas mas cercanos al sol  ' + ing_planeta)\n",
    "print(planetas[0:bus_planeta])\n",
    "## Muestra los planetas más lejanos al sol\n",
    "print('Estos son los planetas mas lejanos al sol  '+ ing_planeta)\n",
    "print(planetas[bus_planeta + 1:])"
   ]
  }
 ],
 "metadata": {
  "interpreter": {
   "hash": "ac59ebe37160ed0dfa835113d9b8498d9f09ceb179beaac4002f036b9467c963"
  },
  "kernelspec": {
   "display_name": "Python 3.9.5 64-bit",
   "language": "python",
   "name": "python3"
  },
  "language_info": {
   "codemirror_mode": {
    "name": "ipython",
    "version": 3
   },
   "file_extension": ".py",
   "mimetype": "text/x-python",
   "name": "python",
   "nbconvert_exporter": "python",
   "pygments_lexer": "ipython3",
   "version": "3.9.5"
  },
  "orig_nbformat": 4
 },
 "nbformat": 4,
 "nbformat_minor": 2
}
