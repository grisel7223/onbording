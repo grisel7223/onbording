{
 "cells": [
  {
   "cell_type": "code",
   "execution_count": null,
   "metadata": {},
   "outputs": [],
   "source": [
    "# Declaramos 2 variables\n",
    "\n",
    "new_planet = ''\n",
    "planets = []\n",
    "# Escribe el ciclo while solicitado\n",
    "\n",
    "while new_planet.lower() != 'done':\n",
    "    if new_planet:\n",
    "        planets.append(new_planet)\n",
    "    new_planet = input('Enter a new planet ')\n"
   ]
  },
  {
   "cell_type": "code",
   "execution_count": null,
   "metadata": {},
   "outputs": [],
   "source": [
    "# Escribe tu ciclo for para iterar en una lista de planetas\n",
    "\n",
    "for planet in planets:\n",
    "    print(planet)\n"
   ]
  }
 ],
 "metadata": {
  "interpreter": {
   "hash": "ac59ebe37160ed0dfa835113d9b8498d9f09ceb179beaac4002f036b9467c963"
  },
  "kernelspec": {
   "display_name": "Python 3.9.5 64-bit",
   "language": "python",
   "name": "python3"
  },
  "language_info": {
   "codemirror_mode": {
    "name": "ipython",
    "version": 3
   },
   "file_extension": ".py",
   "mimetype": "text/x-python",
   "name": "python",
   "nbconvert_exporter": "python",
   "pygments_lexer": "ipython3",
   "version": "3.9.5"
  },
  "orig_nbformat": 4
 },
 "nbformat": 4,
 "nbformat_minor": 2
}
